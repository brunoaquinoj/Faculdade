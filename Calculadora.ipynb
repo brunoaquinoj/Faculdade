{
  "nbformat": 4,
  "nbformat_minor": 0,
  "metadata": {
    "colab": {
      "provenance": [],
      "authorship_tag": "ABX9TyOdi4ewBavA35vXH/eXCvKz",
      "include_colab_link": true
    },
    "kernelspec": {
      "name": "python3",
      "display_name": "Python 3"
    },
    "language_info": {
      "name": "python"
    }
  },
  "cells": [
    {
      "cell_type": "markdown",
      "metadata": {
        "id": "view-in-github",
        "colab_type": "text"
      },
      "source": [
        "<a href=\"https://colab.research.google.com/github/brunoaquinoj/Faculdade/blob/main/Calculadora.ipynb\" target=\"_parent\"><img src=\"https://colab.research.google.com/assets/colab-badge.svg\" alt=\"Open In Colab\"/></a>"
      ]
    },
    {
      "cell_type": "code",
      "source": [
        "# determinando funções para cada operação\n",
        "def somar(x, y):\n",
        "    return x + y\n",
        "\n",
        "def subtrair(x, y):\n",
        "    return x - y\n",
        "\n",
        "def multiplicar(x, y):\n",
        "    return x * y\n",
        "\n",
        "def dividir(x, y):\n",
        "    if y != 0:\n",
        "        return x / y\n",
        "    else:\n",
        "        return \"Não é possível dividir por zero!\"\n",
        "\n",
        "# determinando função para mostrar o menu\n",
        "def mostrar_menu():\n",
        "    print(\"\\nSelecione a operação:\")\n",
        "    print(\"1. Soma\")\n",
        "    print(\"2. Subtração\")\n",
        "    print(\"3. Multiplicação\")\n",
        "    print(\"4. Divisão\")\n",
        "    print(\"5. Usar o resultado anterior\")\n",
        "\n",
        "# variável para armazenar o resultado da operacao executada\n",
        "resultado = None\n",
        "\n",
        "# Loop principal\n",
        "while True:\n",
        "    mostrar_menu()\n",
        "\n",
        "    operacao= input(\"Escolha a operação (1/2/3/4/5) ou 'sair' para encerrar: \")\n",
        "\n",
        "    if operacao== 'sair':\n",
        "        print(\"Saindo...\")\n",
        "        break\n",
        "\n",
        "    #  caso a operacao 5 seja selecinada, caso exita\n",
        "    if operacao== '5' and resultado is not None:\n",
        "        print(f\"\\nUsando o resultado anterior: {resultado}\")\n",
        "        mostrar_menu()  # mostra o menu novanemte\n",
        "        operacao= input(\"Escolha a operação (1/2/3/4/5) ou 'sair' para encerrar: \")\n",
        "        num3 = resultado\n",
        "        num4 = float(input(\"Digite o segundo número: \"))\n",
        "        # fazendo as operações usando o resultado\n",
        "        if operacao== '1':\n",
        "            resultado = somar(num3, num4)\n",
        "            print(f\"{num3} + {num4} = {resultado}\")\n",
        "        elif operacao== '2':\n",
        "            resultado = subtrair(num3, num4)\n",
        "            print(f\"{num3} - {num4} = {resultado}\")\n",
        "        elif operacao== '3':\n",
        "            resultado = multiplicar(num3, num4)\n",
        "            print(f\"{num3} * {num4} = {resultado}\")\n",
        "        elif operacao== '4':\n",
        "            resultado = dividir(num3, num4)\n",
        "            print(f\"{num3} / {num4} = {resultado}\")\n",
        "        else:\n",
        "            print(\"Opção inválida! Tente novamente.\")\n",
        "        continue  # reinicia o loop\n",
        "\n",
        "    elif operacao== '5':\n",
        "        print(\"Ainda não há resultado anterior!\")\n",
        "        continue\n",
        "\n",
        "    else:\n",
        "        num1 = float(input(\"Digite o primeiro número: \"))\n",
        "        num2 = float(input(\"Digite o segundo número: \"))\n",
        "\n",
        "        # fazendo as operações\n",
        "        if operacao== '1':\n",
        "            resultado = somar(num1, num2)\n",
        "            print(f\"{num1} + {num2} = {resultado}\")\n",
        "        elif operacao== '2':\n",
        "            resultado = subtrair(num1, num2)\n",
        "            print(f\"{num1} - {num2} = {resultado}\")\n",
        "        elif operacao== '3':\n",
        "            resultado = multiplicar(num1, num2)\n",
        "            print(f\"{num1} * {num2} = {resultado}\")\n",
        "        elif operacao== '4':\n",
        "            resultado = dividir(num1, num2)\n",
        "            print(f\"{num1} / {num2} = {resultado}\")\n",
        "        else:\n",
        "            print(\"Operação inválida! Tente novamente.\")\n"
      ],
      "metadata": {
        "id": "7MAk1osKO6Y8"
      },
      "execution_count": null,
      "outputs": []
    }
  ]
}