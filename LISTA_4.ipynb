{
  "nbformat": 4,
  "nbformat_minor": 0,
  "metadata": {
    "colab": {
      "provenance": [],
      "authorship_tag": "ABX9TyPh0SN/C0xsH3dPusM3iRP8",
      "include_colab_link": true
    },
    "kernelspec": {
      "name": "python3",
      "display_name": "Python 3"
    },
    "language_info": {
      "name": "python"
    }
  },
  "cells": [
    {
      "cell_type": "markdown",
      "metadata": {
        "id": "view-in-github",
        "colab_type": "text"
      },
      "source": [
        "<a href=\"https://colab.research.google.com/github/brunoaquinoj/Faculdade/blob/main/LISTA_4.ipynb\" target=\"_parent\"><img src=\"https://colab.research.google.com/assets/colab-badge.svg\" alt=\"Open In Colab\"/></a>"
      ]
    },
    {
      "cell_type": "markdown",
      "source": [
        "1-Escreva uma função que receba uma lista de\n",
        "strings como argumento e retorne uma nova lista\n",
        "contendo apenas as strings que começam com a\n",
        "letra \"a\"."
      ],
      "metadata": {
        "id": "yyBs8MKjZJX9"
      }
    },
    {
      "cell_type": "code",
      "execution_count": null,
      "metadata": {
        "id": "2rIIrMX3ZCkk"
      },
      "outputs": [],
      "source": [
        "def strings_comecando_com_a(lista_strings):\n",
        "  return[string for string in lista_strings if string.startswith('a') ]\n",
        "lista=['ana','bruno','allan','bruna']\n",
        "strings_comecando_com_a(lista)"
      ]
    },
    {
      "cell_type": "markdown",
      "source": [
        "2-Escreva uma função que receba uma lista de\n",
        "números como argumento e retorne o maior\n",
        "número da lista.  "
      ],
      "metadata": {
        "id": "qhroLLP0jXcB"
      }
    },
    {
      "cell_type": "code",
      "source": [
        "numeros=[1,2,3,4,5]\n",
        "print(max(numeros))"
      ],
      "metadata": {
        "id": "AwCyfCSvkI-X"
      },
      "execution_count": null,
      "outputs": []
    },
    {
      "cell_type": "markdown",
      "source": [
        "3-Escreva uma função que recebe uma lista de\n",
        "números como parâmetro e retorna a soma total\n",
        "dos elementos da lista"
      ],
      "metadata": {
        "id": "Q__MQsDatIDV"
      }
    },
    {
      "cell_type": "code",
      "source": [
        "from functools import reduce\n",
        "def add_num(a, b):\n",
        "   return a+b\n",
        "a = [1, 2, 3, 4]\n",
        "print(reduce(add_num, a))"
      ],
      "metadata": {
        "id": "71-VYaCfs_xC"
      },
      "execution_count": null,
      "outputs": []
    },
    {
      "cell_type": "markdown",
      "source": [
        "4-Escreva uma função que recebe uma lista de\n",
        "números como parâmetro e retorna o produto total\n",
        "dos elementos da lista\n"
      ],
      "metadata": {
        "id": "3AhQKVTUtyKR"
      }
    },
    {
      "cell_type": "code",
      "source": [
        "def produto_lista(lista):\n",
        "  produto = 1\n",
        "  for numero in lista:\n",
        "    produto *= numero\n",
        "    return produto\n",
        "    lista [5,4,2]\n",
        "  produto_lista(lista)"
      ],
      "metadata": {
        "id": "yak7Zx7btynp"
      },
      "execution_count": null,
      "outputs": []
    },
    {
      "cell_type": "markdown",
      "source": [
        "5-Escreva uma função que recebe uma lista de\n",
        "números como parâmetro e retorna outra lista\n",
        "apenas com os números pares"
      ],
      "metadata": {
        "id": "cFTYt7-ou7EI"
      }
    },
    {
      "cell_type": "code",
      "source": [
        "def filtrar_numeros_pares(lista):\n",
        "    numeros_pares = [num for num in lista if num % 2 == 0]\n",
        "    return numeros_pares\n",
        "olista_numeros = [1, 2, 3, 4, 5, 6, 7, 8, 9, 10]\n",
        "numeros_pares = filtrar_numeros_pares(lista_numeros)\n",
        "print(numeros_pares)"
      ],
      "metadata": {
        "id": "29lRlrb6u6to",
        "colab": {
          "base_uri": "https://localhost:8080/"
        },
        "outputId": "1a24a456-a403-42c3-f2fb-28e4515dfd2f"
      },
      "execution_count": null,
      "outputs": [
        {
          "output_type": "stream",
          "name": "stdout",
          "text": [
            "[2, 4, 6, 8, 10]\n"
          ]
        }
      ]
    },
    {
      "cell_type": "markdown",
      "source": [
        "6-Escreva uma função que recebe uma string\n",
        "como parâmetro e retorna outra string onde\n",
        "substitui as vogais por x"
      ],
      "metadata": {
        "id": "3VEe6N04vbf_"
      }
    },
    {
      "cell_type": "code",
      "source": [
        "def substituir_vogais_por_x(string):\n",
        "    vogais = ['a', 'e', 'i', 'o', 'u', 'A', 'E', 'I', 'O', 'U']\n",
        "    nova_string = ''\n",
        "    \n",
        "    for caractere in string:\n",
        "        if caractere in vogais:\n",
        "            nova_string += 'x'\n",
        "        else:\n",
        "            nova_string += caractere\n",
        "    \n",
        "    return nova_string\n",
        "string_original =input('digite uma palavra: ') \n",
        "nova_string = substituir_vogais_por_x(string_original)\n",
        "print(nova_string)"
      ],
      "metadata": {
        "colab": {
          "base_uri": "https://localhost:8080/"
        },
        "id": "21FIU1NJvP4v",
        "outputId": "8467c628-c221-4c6e-f38a-4f30ee9ea61e"
      },
      "execution_count": null,
      "outputs": [
        {
          "output_type": "stream",
          "name": "stdout",
          "text": [
            "digite uma palavra: bruno\n",
            "brxnx\n"
          ]
        }
      ]
    },
    {
      "cell_type": "markdown",
      "source": [
        "7-Definir uma função que testa um caracter e\n",
        "retorna se é vogal ou não"
      ],
      "metadata": {
        "id": "-JvwuEYTzMLZ"
      }
    },
    {
      "cell_type": "code",
      "source": [
        "palavra=(input(\"digite um caracter: \"))\n",
        "vogal=('a','e','i','o','u')\n",
        "if (palavra==vogal):\n",
        "  print(\"esse caracter é vogal\")\n",
        "else:\n",
        "  print(\"esse caracter não é uma vogal\")"
      ],
      "metadata": {
        "id": "crowT8yAzL6p"
      },
      "execution_count": null,
      "outputs": []
    },
    {
      "cell_type": "markdown",
      "source": [
        "8 - Reescreva o exercício 6 usando a função\n",
        "reduce e a função definida no exercício anterior"
      ],
      "metadata": {
        "id": "b8bsaY-F_WZ4"
      }
    },
    {
      "cell_type": "code",
      "source": [],
      "metadata": {
        "id": "UhFOXQC9zHRa"
      },
      "execution_count": 1,
      "outputs": []
    },
    {
      "cell_type": "markdown",
      "source": [
        "9 - Crie uma função para percorrer uma string\n",
        "informando se o caracter é acentuado ou não"
      ],
      "metadata": {
        "id": "5fY-8gj4_y5j"
      }
    },
    {
      "cell_type": "code",
      "source": [
        "import unicodedata\n",
        "\n",
        "def verificar_acentuacao(string):\n",
        "    for caracter in string:  \n",
        "        if unicodedata.combining(caracter):\n",
        "            print(f\"O caractere '{caracter}' é acentuado.\")\n",
        "        else:\n",
        "            print(f\"O caractere '{caracter}' não é acentuado.\")\n",
        "verificar_acentuacao(\"Olá, mundo!\")\n",
        "            "
      ],
      "metadata": {
        "colab": {
          "base_uri": "https://localhost:8080/"
        },
        "id": "rK70rSZO_2jv",
        "outputId": "88038ca8-0b2a-4d3b-a2a6-3ca3790bc588"
      },
      "execution_count": null,
      "outputs": [
        {
          "output_type": "stream",
          "name": "stdout",
          "text": [
            "O caractere 'O' não é acentuado.\n",
            "O caractere 'l' não é acentuado.\n",
            "O caractere 'á' não é acentuado.\n",
            "O caractere ',' não é acentuado.\n",
            "O caractere ' ' não é acentuado.\n",
            "O caractere 'm' não é acentuado.\n",
            "O caractere 'u' não é acentuado.\n",
            "O caractere 'n' não é acentuado.\n",
            "O caractere 'd' não é acentuado.\n",
            "O caractere 'o' não é acentuado.\n",
            "O caractere '!' não é acentuado.\n"
          ]
        }
      ]
    }
  ]
}